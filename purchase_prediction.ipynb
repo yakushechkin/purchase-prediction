{
 "cells": [
  {
   "cell_type": "markdown",
   "metadata": {},
   "source": [
    "<b>ML problem:</b> Binary Classification <br>\n",
    "<b>Task:</b> Identify the probability of a lead getting converted to sales"
   ]
  },
  {
   "cell_type": "markdown",
   "metadata": {
    "id": "Sb7e66LwFcaF"
   },
   "source": [
    "### Import dependencies"
   ]
  },
  {
   "cell_type": "code",
   "execution_count": 36,
   "metadata": {
    "id": "ThE3SpSIFbGb"
   },
   "outputs": [],
   "source": [
    "import pandas as pd\n",
    "import numpy as np\n",
    "\n",
    "import matplotlib.pyplot as plt\n",
    "import seaborn as sns\n",
    "\n",
    "import keras\n",
    "from keras import models\n",
    "from keras import layers\n",
    "\n",
    "from sklearn.ensemble import RandomForestClassifier\n",
    "from sklearn.metrics import accuracy_score, classification_report\n",
    "\n",
    "from sklearn.preprocessing import LabelEncoder\n",
    "from sklearn.model_selection import train_test_split\n",
    "\n",
    "\n"
   ]
  },
  {
   "cell_type": "markdown",
   "metadata": {
    "id": "pX6TzeU7Kop6"
   },
   "source": [
    "### Load data from an excel file into a Pandas DataFrame"
   ]
  },
  {
   "cell_type": "code",
   "execution_count": 3,
   "metadata": {
    "id": "5RN9ubWgHCEp"
   },
   "outputs": [],
   "source": [
    "df = pd.read_excel(input_dir + filename)"
   ]
  },
  {
   "cell_type": "markdown",
   "metadata": {
    "id": "e_8-wrABHGuI"
   },
   "source": [
    "## Exploratory Data Analysis"
   ]
  },
  {
   "cell_type": "code",
   "execution_count": 4,
   "metadata": {
    "colab": {
     "base_uri": "https://localhost:8080/",
     "height": 196
    },
    "id": "8yKw5AxuLFAC",
    "outputId": "2e0cd0e0-4094-42e8-dfce-4574b2d8a063"
   },
   "outputs": [
    {
     "name": "stdout",
     "output_type": "stream",
     "text": [
      "Dataset shape:  (357970, 9)\n",
      "Features:  Index(['id', 'Gender', 'Age', 'Area code', 'Have hearing aid',\n",
      "       'Hearing aid age', 'Have ENT prescription', 'Distance to store (in km)',\n",
      "       'Sales'],\n",
      "      dtype='object')\n"
     ]
    },
    {
     "data": {
      "text/html": [
       "<div>\n",
       "<style scoped>\n",
       "    .dataframe tbody tr th:only-of-type {\n",
       "        vertical-align: middle;\n",
       "    }\n",
       "\n",
       "    .dataframe tbody tr th {\n",
       "        vertical-align: top;\n",
       "    }\n",
       "\n",
       "    .dataframe thead th {\n",
       "        text-align: right;\n",
       "    }\n",
       "</style>\n",
       "<table border=\"1\" class=\"dataframe\">\n",
       "  <thead>\n",
       "    <tr style=\"text-align: right;\">\n",
       "      <th></th>\n",
       "      <th>id</th>\n",
       "      <th>Gender</th>\n",
       "      <th>Age</th>\n",
       "      <th>Area code</th>\n",
       "      <th>Have hearing aid</th>\n",
       "      <th>Hearing aid age</th>\n",
       "      <th>Have ENT prescription</th>\n",
       "      <th>Distance to store (in km)</th>\n",
       "      <th>Sales</th>\n",
       "    </tr>\n",
       "  </thead>\n",
       "  <tbody>\n",
       "    <tr>\n",
       "      <th>0</th>\n",
       "      <td>167647</td>\n",
       "      <td>Male</td>\n",
       "      <td>48</td>\n",
       "      <td>7.0</td>\n",
       "      <td>0.0</td>\n",
       "      <td>&lt; 1 Year</td>\n",
       "      <td>No</td>\n",
       "      <td>25.0</td>\n",
       "      <td>0</td>\n",
       "    </tr>\n",
       "    <tr>\n",
       "      <th>1</th>\n",
       "      <td>17163</td>\n",
       "      <td>Male</td>\n",
       "      <td>32</td>\n",
       "      <td>28.0</td>\n",
       "      <td>0.0</td>\n",
       "      <td>1-2 Year</td>\n",
       "      <td>Yes</td>\n",
       "      <td>32.0</td>\n",
       "      <td>0</td>\n",
       "    </tr>\n",
       "  </tbody>\n",
       "</table>\n",
       "</div>"
      ],
      "text/plain": [
       "       id Gender  Age  ...  Have ENT prescription  Distance to store (in km) Sales\n",
       "0  167647   Male   48  ...                     No                       25.0     0\n",
       "1   17163   Male   32  ...                    Yes                       32.0     0\n",
       "\n",
       "[2 rows x 9 columns]"
      ]
     },
     "execution_count": 4,
     "metadata": {
      "tags": []
     },
     "output_type": "execute_result"
    }
   ],
   "source": [
    "print('Dataset shape: ', df.shape)\n",
    "print('Features: ', df.columns)\n",
    "df.head(2)"
   ]
  },
  {
   "cell_type": "markdown",
   "metadata": {
    "id": "sFUn0PYsSQ67"
   },
   "source": [
    "\n",
    "\n",
    "1.   The dataset consists of 357970 records.\n",
    "2.   There are 8 features and 1 binary target. \n",
    "\n"
   ]
  },
  {
   "cell_type": "code",
   "execution_count": 5,
   "metadata": {
    "colab": {
     "base_uri": "https://localhost:8080/",
     "height": 297
    },
    "id": "9MWm06inIteB",
    "outputId": "1c59f697-74f3-411a-d9df-df279cc68e00"
   },
   "outputs": [
    {
     "data": {
      "text/html": [
       "<div>\n",
       "<style scoped>\n",
       "    .dataframe tbody tr th:only-of-type {\n",
       "        vertical-align: middle;\n",
       "    }\n",
       "\n",
       "    .dataframe tbody tr th {\n",
       "        vertical-align: top;\n",
       "    }\n",
       "\n",
       "    .dataframe thead th {\n",
       "        text-align: right;\n",
       "    }\n",
       "</style>\n",
       "<table border=\"1\" class=\"dataframe\">\n",
       "  <thead>\n",
       "    <tr style=\"text-align: right;\">\n",
       "      <th></th>\n",
       "      <th>id</th>\n",
       "      <th>Age</th>\n",
       "      <th>Area code</th>\n",
       "      <th>Have hearing aid</th>\n",
       "      <th>Distance to store (in km)</th>\n",
       "      <th>Sales</th>\n",
       "    </tr>\n",
       "  </thead>\n",
       "  <tbody>\n",
       "    <tr>\n",
       "      <th>count</th>\n",
       "      <td>357970.000000</td>\n",
       "      <td>357970.000000</td>\n",
       "      <td>357947.000000</td>\n",
       "      <td>357465.000000</td>\n",
       "      <td>357945.000000</td>\n",
       "      <td>357970.000000</td>\n",
       "    </tr>\n",
       "    <tr>\n",
       "      <th>mean</th>\n",
       "      <td>230874.387809</td>\n",
       "      <td>41.178079</td>\n",
       "      <td>26.381671</td>\n",
       "      <td>0.553386</td>\n",
       "      <td>35.007842</td>\n",
       "      <td>0.027041</td>\n",
       "    </tr>\n",
       "    <tr>\n",
       "      <th>std</th>\n",
       "      <td>137869.896274</td>\n",
       "      <td>8.340704</td>\n",
       "      <td>13.290270</td>\n",
       "      <td>0.497142</td>\n",
       "      <td>6.054417</td>\n",
       "      <td>0.162204</td>\n",
       "    </tr>\n",
       "    <tr>\n",
       "      <th>min</th>\n",
       "      <td>3.000000</td>\n",
       "      <td>30.000000</td>\n",
       "      <td>0.000000</td>\n",
       "      <td>0.000000</td>\n",
       "      <td>20.000000</td>\n",
       "      <td>0.000000</td>\n",
       "    </tr>\n",
       "    <tr>\n",
       "      <th>25%</th>\n",
       "      <td>113167.250000</td>\n",
       "      <td>35.000000</td>\n",
       "      <td>15.000000</td>\n",
       "      <td>0.000000</td>\n",
       "      <td>30.000000</td>\n",
       "      <td>0.000000</td>\n",
       "    </tr>\n",
       "    <tr>\n",
       "      <th>50%</th>\n",
       "      <td>226595.500000</td>\n",
       "      <td>41.000000</td>\n",
       "      <td>28.000000</td>\n",
       "      <td>1.000000</td>\n",
       "      <td>35.000000</td>\n",
       "      <td>0.000000</td>\n",
       "    </tr>\n",
       "    <tr>\n",
       "      <th>75%</th>\n",
       "      <td>339778.500000</td>\n",
       "      <td>46.000000</td>\n",
       "      <td>35.000000</td>\n",
       "      <td>1.000000</td>\n",
       "      <td>40.000000</td>\n",
       "      <td>0.000000</td>\n",
       "    </tr>\n",
       "    <tr>\n",
       "      <th>max</th>\n",
       "      <td>508145.000000</td>\n",
       "      <td>85.000000</td>\n",
       "      <td>52.000000</td>\n",
       "      <td>1.000000</td>\n",
       "      <td>45.000000</td>\n",
       "      <td>1.000000</td>\n",
       "    </tr>\n",
       "  </tbody>\n",
       "</table>\n",
       "</div>"
      ],
      "text/plain": [
       "                  id            Age  ...  Distance to store (in km)          Sales\n",
       "count  357970.000000  357970.000000  ...              357945.000000  357970.000000\n",
       "mean   230874.387809      41.178079  ...                  35.007842       0.027041\n",
       "std    137869.896274       8.340704  ...                   6.054417       0.162204\n",
       "min         3.000000      30.000000  ...                  20.000000       0.000000\n",
       "25%    113167.250000      35.000000  ...                  30.000000       0.000000\n",
       "50%    226595.500000      41.000000  ...                  35.000000       0.000000\n",
       "75%    339778.500000      46.000000  ...                  40.000000       0.000000\n",
       "max    508145.000000      85.000000  ...                  45.000000       1.000000\n",
       "\n",
       "[8 rows x 6 columns]"
      ]
     },
     "execution_count": 5,
     "metadata": {
      "tags": []
     },
     "output_type": "execute_result"
    }
   ],
   "source": [
    "df.describe()"
   ]
  },
  {
   "cell_type": "markdown",
   "metadata": {
    "id": "pHQCTET7Sx89"
   },
   "source": [
    "Let's take a look at the number of unique values. "
   ]
  },
  {
   "cell_type": "code",
   "execution_count": 6,
   "metadata": {
    "colab": {
     "base_uri": "https://localhost:8080/"
    },
    "id": "vbEqCzm2aFFz",
    "outputId": "e6265eff-9747-4d95-d823-6292da6d33c3"
   },
   "outputs": [
    {
     "data": {
      "text/plain": [
       "id                           357970\n",
       "Gender                            2\n",
       "Age                              56\n",
       "Area code                        53\n",
       "Have hearing aid                  2\n",
       "Hearing aid age                   5\n",
       "Have ENT prescription             2\n",
       "Distance to store (in km)        26\n",
       "Sales                             2\n",
       "dtype: int64"
      ]
     },
     "execution_count": 6,
     "metadata": {
      "tags": []
     },
     "output_type": "execute_result"
    }
   ],
   "source": [
    "df.nunique()"
   ]
  },
  {
   "cell_type": "markdown",
   "metadata": {
    "id": "1xwvokA2Y7Lb"
   },
   "source": [
    "### Data Visualization"
   ]
  },
  {
   "cell_type": "code",
   "execution_count": 7,
   "metadata": {
    "colab": {
     "base_uri": "https://localhost:8080/",
     "height": 1000
    },
    "id": "U2Vw7tPpWn3b",
    "outputId": "faa4aac2-3a76-416c-8821-e4e535e3ac31"
   },
   "outputs": [
    {
     "data": {
      "text/plain": [
       "<matplotlib.axes._subplots.AxesSubplot at 0x7f32e2dcd7d0>"
      ]
     },
     "execution_count": 7,
     "metadata": {
      "tags": []
     },
     "output_type": "execute_result"
    },
    {
     "data": {
      "image/png": "[encoded data removed]",
      "text/plain": [
       "<Figure size 1728x1728 with 8 Axes>"
      ]
     },
     "metadata": {
      "needs_background": "light",
      "tags": []
     },
     "output_type": "display_data"
    }
   ],
   "source": [
    "fig, axs=plt.subplots(4,2,figsize=(24,24))\n",
    "\n",
    "df['Gender'].value_counts().plot.bar(ax=axs[0][0], title= 'Gender')\n",
    "df['Age'].value_counts().sort_index().plot.area(ax=axs[1][0], title= 'Age')\n",
    "df['Area code'].value_counts().sort_index().plot.area(ax=axs[2][0], title= 'Area code')\n",
    "df['Have hearing aid'].value_counts().plot.bar(ax=axs[3][0], title= 'Have hearing aid')\n",
    "df['Hearing aid age'].value_counts().plot.bar(ax=axs[0][1], title= 'Hearing aid age')\n",
    "df['Have ENT prescription'].value_counts().plot.bar(ax=axs[1][1], title= 'Have ENT prescription')\n",
    "df['Distance to store (in km)'].value_counts().sort_index().plot.area(ax=axs[2][1], title= 'Distance to store (in km)')\n",
    "df['Sales'].value_counts().plot.bar(ax=axs[3][1], title= 'Sales')"
   ]
  },
  {
   "cell_type": "markdown",
   "metadata": {
    "id": "ayu1EteDgrCX"
   },
   "source": [
    "(These three cells are for the inferences below)"
   ]
  },
  {
   "cell_type": "code",
   "execution_count": 8,
   "metadata": {
    "colab": {
     "base_uri": "https://localhost:8080/"
    },
    "id": "brgcnb7Ogp_s",
    "outputId": "819ba0be-e284-48c2-c9e7-68161fc2a21a"
   },
   "outputs": [
    {
     "data": {
      "text/plain": [
       "0.9599268095091767"
      ]
     },
     "execution_count": 8,
     "metadata": {
      "tags": []
     },
     "output_type": "execute_result"
    }
   ],
   "source": [
    "df[df['Age'] <= 50 ]['Age'].count() / df['Age'].count()"
   ]
  },
  {
   "cell_type": "code",
   "execution_count": 9,
   "metadata": {
    "colab": {
     "base_uri": "https://localhost:8080/"
    },
    "id": "MLQz8nieh_rD",
    "outputId": "a702a35e-6538-428c-ada4-6d023baac168"
   },
   "outputs": [
    {
     "data": {
      "text/plain": [
       "0.9330435488430545"
      ]
     },
     "execution_count": 9,
     "metadata": {
      "tags": []
     },
     "output_type": "execute_result"
    }
   ],
   "source": [
    "df[df['Hearing aid age'].isin(['< 1 Year', '1-2 Year'])]['Hearing aid age'].count() / df['Hearing aid age'].count()"
   ]
  },
  {
   "cell_type": "code",
   "execution_count": 10,
   "metadata": {
    "colab": {
     "base_uri": "https://localhost:8080/"
    },
    "id": "XRJww7cooMWO",
    "outputId": "482f20e6-7454-4baa-fd62-72eca94313f8"
   },
   "outputs": [
    {
     "data": {
      "text/plain": [
       "0.4466143538528248"
      ]
     },
     "execution_count": 10,
     "metadata": {
      "tags": []
     },
     "output_type": "execute_result"
    }
   ],
   "source": [
    "df[df['Have hearing aid'] == 0]['Have hearing aid'].count() / df['Have hearing aid'].count()"
   ]
  },
  {
   "cell_type": "markdown",
   "metadata": {
    "id": "A3kR-knEeDCe"
   },
   "source": [
    "Inferences:\n",
    "\n",
    "\n",
    "\n",
    "*   The age of the majority of potential customers (96%) is in the range of 30 to 50. Maybe this is a consequence of the chosen target strategy.\n",
    "*   Only 7% of prospects have a hearing aid older than 2 years.\n",
    "*   Quite a lot of people (45%) do not have a hearing aid.\n",
    "*   A sharp increase in potential customers starting from a distance of 25 km.\n",
    "*   The classes are pretty imbalanced.\n",
    "*   It's nothing to say regarding area codes from this visualization. \n",
    "\n",
    "It makes sense to look at the correlations, i.e. at linear relationships of the parameters on each other. It is especially interesting to see how sales depend on chosen features.\n",
    "\n"
   ]
  },
  {
   "cell_type": "markdown",
   "metadata": {
    "id": "xt1VjJaDue59"
   },
   "source": [
    "Before moving forward, let's check the NaN values in the dataset and replace them."
   ]
  },
  {
   "cell_type": "code",
   "execution_count": 11,
   "metadata": {
    "colab": {
     "base_uri": "https://localhost:8080/"
    },
    "id": "gATouHg3ueb5",
    "outputId": "15dc17e3-d666-4d9e-d437-1749bd520b67"
   },
   "outputs": [
    {
     "data": {
      "text/plain": [
       "id                             0\n",
       "Gender                         0\n",
       "Age                            0\n",
       "Area code                     23\n",
       "Have hearing aid             505\n",
       "Hearing aid age              693\n",
       "Have ENT prescription          0\n",
       "Distance to store (in km)     25\n",
       "Sales                          0\n",
       "dtype: int64"
      ]
     },
     "execution_count": 11,
     "metadata": {
      "tags": []
     },
     "output_type": "execute_result"
    }
   ],
   "source": [
    "df_cln = df.copy()\n",
    "df_cln.isnull().sum()"
   ]
  },
  {
   "cell_type": "markdown",
   "metadata": {
    "id": "zlJZdlhZ1TQJ"
   },
   "source": [
    "Replace missing values:\n",
    "\n",
    "Nan values are encoded as 'Unknown' for categorical variables, i.e. introduce one more option. Of course, there are techniques to replace nan with mode, median, etc. So, I'm leaving space for experiments, improvement.\n",
    "\n",
    "1.   Have hearing aid: NaN -> 'Unknown'\n",
    "2.   Hearing aid age: NaN -> 'Unknown'\n",
    "3.   Distance to store (in km) -> 0. 0 is a default value and it's vacant. There are no prospects who live in a store.\n",
    "4. Area code -> remove. Again, It's feasible to use median or '-1' (because '0' is already some area). But since there are only 23 records with NaN, the rows are just erased. \n",
    "\n"
   ]
  },
  {
   "cell_type": "code",
   "execution_count": 12,
   "metadata": {
    "colab": {
     "base_uri": "https://localhost:8080/"
    },
    "id": "EkLm3yTA0xUQ",
    "outputId": "f11f2c39-b25c-4d11-915f-160b355d3573"
   },
   "outputs": [
    {
     "data": {
      "text/plain": [
       "array([0])"
      ]
     },
     "execution_count": 12,
     "metadata": {
      "tags": []
     },
     "output_type": "execute_result"
    }
   ],
   "source": [
    "# there are only records with 'negative' output \n",
    "df_cln[df_cln['Area code'].isnull()]['Sales'].unique()"
   ]
  },
  {
   "cell_type": "code",
   "execution_count": 13,
   "metadata": {
    "id": "Hq3zzo9Rwxb2"
   },
   "outputs": [],
   "source": [
    "nan_replace = {'Have hearing aid': 'Unknown', 'Hearing aid age': 'Unknown', \"Distance to store (in km)\": .0}\n",
    "\n",
    "# remove 'Area code' NaNs\n",
    "df_cln.drop(df_cln[df_cln['Area code'].isnull()].index, inplace=True)\n",
    "\n",
    "df_cln = df_cln.fillna(nan_replace)"
   ]
  },
  {
   "cell_type": "code",
   "execution_count": 14,
   "metadata": {
    "colab": {
     "base_uri": "https://localhost:8080/"
    },
    "id": "Z3YlyvVexbcy",
    "outputId": "44d76a7a-b31a-439e-8a0e-602e53201bd1"
   },
   "outputs": [
    {
     "data": {
      "text/plain": [
       "id                           0\n",
       "Gender                       0\n",
       "Age                          0\n",
       "Area code                    0\n",
       "Have hearing aid             0\n",
       "Hearing aid age              0\n",
       "Have ENT prescription        0\n",
       "Distance to store (in km)    0\n",
       "Sales                        0\n",
       "dtype: int64"
      ]
     },
     "execution_count": 14,
     "metadata": {
      "tags": []
     },
     "output_type": "execute_result"
    }
   ],
   "source": [
    "# Recheck missing values\n",
    "\n",
    "df_cln.isnull().sum()"
   ]
  },
  {
   "cell_type": "code",
   "execution_count": 15,
   "metadata": {
    "id": "THs8P4RXAtGo"
   },
   "outputs": [],
   "source": [
    "# explicitly specify the string type otherwise, it causes issues\n",
    "\n",
    "df_cln['Have hearing aid'] = df_cln['Have hearing aid'].astype('string')"
   ]
  },
  {
   "cell_type": "markdown",
   "metadata": {
    "id": "MUoD__HMBb1_"
   },
   "source": [
    "### Correlation matrix"
   ]
  },
  {
   "cell_type": "code",
   "execution_count": 16,
   "metadata": {
    "id": "yeUz6wPyXuk0"
   },
   "outputs": [],
   "source": [
    "# remove ID column, because it isn't a feature for the task, and it isn't used for training\n",
    "\n",
    "df_cln = df_cln.iloc[:,1:]"
   ]
  },
  {
   "cell_type": "code",
   "execution_count": 17,
   "metadata": {
    "colab": {
     "base_uri": "https://localhost:8080/",
     "height": 111
    },
    "id": "lj7ygtajXuhy",
    "outputId": "1196fa7d-890d-45e5-9761-d508de20518c"
   },
   "outputs": [
    {
     "data": {
      "text/html": [
       "<div>\n",
       "<style scoped>\n",
       "    .dataframe tbody tr th:only-of-type {\n",
       "        vertical-align: middle;\n",
       "    }\n",
       "\n",
       "    .dataframe tbody tr th {\n",
       "        vertical-align: top;\n",
       "    }\n",
       "\n",
       "    .dataframe thead th {\n",
       "        text-align: right;\n",
       "    }\n",
       "</style>\n",
       "<table border=\"1\" class=\"dataframe\">\n",
       "  <thead>\n",
       "    <tr style=\"text-align: right;\">\n",
       "      <th></th>\n",
       "      <th>Gender</th>\n",
       "      <th>Age</th>\n",
       "      <th>Area code</th>\n",
       "      <th>Have hearing aid</th>\n",
       "      <th>Hearing aid age</th>\n",
       "      <th>Have ENT prescription</th>\n",
       "      <th>Distance to store (in km)</th>\n",
       "      <th>Sales</th>\n",
       "    </tr>\n",
       "  </thead>\n",
       "  <tbody>\n",
       "    <tr>\n",
       "      <th>0</th>\n",
       "      <td>Male</td>\n",
       "      <td>48</td>\n",
       "      <td>7.0</td>\n",
       "      <td>0.0</td>\n",
       "      <td>&lt; 1 Year</td>\n",
       "      <td>No</td>\n",
       "      <td>25.0</td>\n",
       "      <td>0</td>\n",
       "    </tr>\n",
       "    <tr>\n",
       "      <th>1</th>\n",
       "      <td>Male</td>\n",
       "      <td>32</td>\n",
       "      <td>28.0</td>\n",
       "      <td>0.0</td>\n",
       "      <td>1-2 Year</td>\n",
       "      <td>Yes</td>\n",
       "      <td>32.0</td>\n",
       "      <td>0</td>\n",
       "    </tr>\n",
       "  </tbody>\n",
       "</table>\n",
       "</div>"
      ],
      "text/plain": [
       "  Gender  Age  ...  Distance to store (in km) Sales\n",
       "0   Male   48  ...                       25.0     0\n",
       "1   Male   32  ...                       32.0     0\n",
       "\n",
       "[2 rows x 8 columns]"
      ]
     },
     "execution_count": 17,
     "metadata": {
      "tags": []
     },
     "output_type": "execute_result"
    }
   ],
   "source": [
    "df_cln.head(2)"
   ]
  },
  {
   "cell_type": "code",
   "execution_count": 18,
   "metadata": {
    "id": "30gRujpcXud0"
   },
   "outputs": [],
   "source": [
    "# encode categorical variables by using LabelEncoder()\n",
    "\n",
    "label_encoder = LabelEncoder()\n",
    "df_cln['Gender'] = label_encoder.fit_transform(df_cln['Gender']).astype('float64')\n",
    "df_cln['Have hearing aid'] = label_encoder.fit_transform(df_cln['Have hearing aid']).astype('float64')\n",
    "df_cln['Hearing aid age'] = label_encoder.fit_transform(df_cln['Hearing aid age']).astype('float64')\n",
    "df_cln['Have ENT prescription'] = label_encoder.fit_transform(df_cln['Have ENT prescription']).astype('float64')"
   ]
  },
  {
   "cell_type": "code",
   "execution_count": 19,
   "metadata": {
    "colab": {
     "base_uri": "https://localhost:8080/"
    },
    "id": "ZjdrH44W6bPu",
    "outputId": "a5145081-4350-4928-f177-fae314375f23"
   },
   "outputs": [
    {
     "name": "stdout",
     "output_type": "stream",
     "text": [
      "<class 'pandas.core.frame.DataFrame'>\n",
      "Int64Index: 357947 entries, 0 to 357969\n",
      "Data columns (total 8 columns):\n",
      " #   Column                     Non-Null Count   Dtype  \n",
      "---  ------                     --------------   -----  \n",
      " 0   Gender                     357947 non-null  float64\n",
      " 1   Age                        357947 non-null  float64\n",
      " 2   Area code                  357947 non-null  float64\n",
      " 3   Have hearing aid           357947 non-null  float64\n",
      " 4   Hearing aid age            357947 non-null  float64\n",
      " 5   Have ENT prescription      357947 non-null  float64\n",
      " 6   Distance to store (in km)  357947 non-null  float64\n",
      " 7   Sales                      357947 non-null  float64\n",
      "dtypes: float64(8)\n",
      "memory usage: 24.6 MB\n"
     ]
    }
   ],
   "source": [
    "# set a type of variables\n",
    "df_cln = df_cln.astype('float64')\n",
    "df_cln.info()"
   ]
  },
  {
   "cell_type": "code",
   "execution_count": 20,
   "metadata": {
    "colab": {
     "base_uri": "https://localhost:8080/",
     "height": 297
    },
    "id": "6MscVj1G6J8z",
    "outputId": "fc5527e7-c7f1-497c-e0cd-80bc2e76a214"
   },
   "outputs": [
    {
     "data": {
      "text/html": [
       "<div>\n",
       "<style scoped>\n",
       "    .dataframe tbody tr th:only-of-type {\n",
       "        vertical-align: middle;\n",
       "    }\n",
       "\n",
       "    .dataframe tbody tr th {\n",
       "        vertical-align: top;\n",
       "    }\n",
       "\n",
       "    .dataframe thead th {\n",
       "        text-align: right;\n",
       "    }\n",
       "</style>\n",
       "<table border=\"1\" class=\"dataframe\">\n",
       "  <thead>\n",
       "    <tr style=\"text-align: right;\">\n",
       "      <th></th>\n",
       "      <th>Gender</th>\n",
       "      <th>Age</th>\n",
       "      <th>Area code</th>\n",
       "      <th>Have hearing aid</th>\n",
       "      <th>Hearing aid age</th>\n",
       "      <th>Have ENT prescription</th>\n",
       "      <th>Distance to store (in km)</th>\n",
       "      <th>Sales</th>\n",
       "    </tr>\n",
       "  </thead>\n",
       "  <tbody>\n",
       "    <tr>\n",
       "      <th>Gender</th>\n",
       "      <td>1.000000</td>\n",
       "      <td>0.021406</td>\n",
       "      <td>0.002351</td>\n",
       "      <td>-0.075389</td>\n",
       "      <td>-0.140060</td>\n",
       "      <td>0.079637</td>\n",
       "      <td>0.002709</td>\n",
       "      <td>0.026261</td>\n",
       "    </tr>\n",
       "    <tr>\n",
       "      <th>Age</th>\n",
       "      <td>0.021406</td>\n",
       "      <td>1.000000</td>\n",
       "      <td>0.005493</td>\n",
       "      <td>0.061310</td>\n",
       "      <td>0.012694</td>\n",
       "      <td>0.172947</td>\n",
       "      <td>-0.000629</td>\n",
       "      <td>0.473926</td>\n",
       "    </tr>\n",
       "    <tr>\n",
       "      <th>Area code</th>\n",
       "      <td>0.002351</td>\n",
       "      <td>0.005493</td>\n",
       "      <td>1.000000</td>\n",
       "      <td>-0.019963</td>\n",
       "      <td>-0.035883</td>\n",
       "      <td>0.023132</td>\n",
       "      <td>0.000212</td>\n",
       "      <td>0.006343</td>\n",
       "    </tr>\n",
       "    <tr>\n",
       "      <th>Have hearing aid</th>\n",
       "      <td>-0.075389</td>\n",
       "      <td>0.061310</td>\n",
       "      <td>-0.019963</td>\n",
       "      <td>1.000000</td>\n",
       "      <td>0.246971</td>\n",
       "      <td>-0.639211</td>\n",
       "      <td>-0.001099</td>\n",
       "      <td>0.135583</td>\n",
       "    </tr>\n",
       "    <tr>\n",
       "      <th>Hearing aid age</th>\n",
       "      <td>-0.140060</td>\n",
       "      <td>0.012694</td>\n",
       "      <td>-0.035883</td>\n",
       "      <td>0.246971</td>\n",
       "      <td>1.000000</td>\n",
       "      <td>-0.178099</td>\n",
       "      <td>-0.001269</td>\n",
       "      <td>0.062214</td>\n",
       "    </tr>\n",
       "    <tr>\n",
       "      <th>Have ENT prescription</th>\n",
       "      <td>0.079637</td>\n",
       "      <td>0.172947</td>\n",
       "      <td>0.023132</td>\n",
       "      <td>-0.639211</td>\n",
       "      <td>-0.178099</td>\n",
       "      <td>1.000000</td>\n",
       "      <td>0.004169</td>\n",
       "      <td>0.206458</td>\n",
       "    </tr>\n",
       "    <tr>\n",
       "      <th>Distance to store (in km)</th>\n",
       "      <td>0.002709</td>\n",
       "      <td>-0.000629</td>\n",
       "      <td>0.000212</td>\n",
       "      <td>-0.001099</td>\n",
       "      <td>-0.001269</td>\n",
       "      <td>0.004169</td>\n",
       "      <td>1.000000</td>\n",
       "      <td>-0.000779</td>\n",
       "    </tr>\n",
       "    <tr>\n",
       "      <th>Sales</th>\n",
       "      <td>0.026261</td>\n",
       "      <td>0.473926</td>\n",
       "      <td>0.006343</td>\n",
       "      <td>0.135583</td>\n",
       "      <td>0.062214</td>\n",
       "      <td>0.206458</td>\n",
       "      <td>-0.000779</td>\n",
       "      <td>1.000000</td>\n",
       "    </tr>\n",
       "  </tbody>\n",
       "</table>\n",
       "</div>"
      ],
      "text/plain": [
       "                             Gender  ...     Sales\n",
       "Gender                     1.000000  ...  0.026261\n",
       "Age                        0.021406  ...  0.473926\n",
       "Area code                  0.002351  ...  0.006343\n",
       "Have hearing aid          -0.075389  ...  0.135583\n",
       "Hearing aid age           -0.140060  ...  0.062214\n",
       "Have ENT prescription      0.079637  ...  0.206458\n",
       "Distance to store (in km)  0.002709  ... -0.000779\n",
       "Sales                      0.026261  ...  1.000000\n",
       "\n",
       "[8 rows x 8 columns]"
      ]
     },
     "execution_count": 20,
     "metadata": {
      "tags": []
     },
     "output_type": "execute_result"
    }
   ],
   "source": [
    "corr = df_cln.corr()\n",
    "corr"
   ]
  },
  {
   "cell_type": "code",
   "execution_count": 21,
   "metadata": {
    "colab": {
     "base_uri": "https://localhost:8080/",
     "height": 400
    },
    "id": "BP0iY3urCKaH",
    "outputId": "164ccdd0-54cd-4749-9940-4d3eed64f953"
   },
   "outputs": [
    {
     "data": {
      "text/plain": [
       "<matplotlib.axes._subplots.AxesSubplot at 0x7f32de19db10>"
      ]
     },
     "execution_count": 21,
     "metadata": {
      "tags": []
     },
     "output_type": "execute_result"
    },
    {
     "data": {
      "image/png": "[encoded data removed]",
      "text/plain": [
       "<Figure size 432x288 with 2 Axes>"
      ]
     },
     "metadata": {
      "needs_background": "light",
      "tags": []
     },
     "output_type": "display_data"
    }
   ],
   "source": [
    "sns.heatmap(corr, annot=True, fmt='.2')"
   ]
  },
  {
   "cell_type": "markdown",
   "metadata": {
    "id": "HC0msVGDFEKm"
   },
   "source": [
    "Inferences:\n",
    "\n",
    "*   Customers with a prescription are more likely to buy a product.\n",
    "*   The age factor is very significant (0.47) for making a purchase.\n",
    "*   The relation between 'have hearing aid' and 'have ENT prescription' is pretty strong.\n",
    "\n"
   ]
  },
  {
   "cell_type": "markdown",
   "metadata": {
    "id": "ZeRLvac4IKx5"
   },
   "source": [
    "### Train test split"
   ]
  },
  {
   "cell_type": "code",
   "execution_count": 22,
   "metadata": {
    "id": "_cH-980YIOrY"
   },
   "outputs": [],
   "source": [
    "X = df_cln.iloc[:,:-1]\n",
    "y = df_cln.iloc[:,-1]\n",
    "# y = df_cln.iloc[:,-1].astype('int64')"
   ]
  },
  {
   "cell_type": "code",
   "execution_count": 23,
   "metadata": {
    "id": "eMb3GipqI5em"
   },
   "outputs": [],
   "source": [
    "X_train, X_test, y_train, y_test = train_test_split(X, y, test_size=0.2, random_state=42)"
   ]
  },
  {
   "cell_type": "markdown",
   "metadata": {
    "id": "TKbZ0rWlHyOg"
   },
   "source": [
    "### Normalizing the data"
   ]
  },
  {
   "cell_type": "markdown",
   "metadata": {
    "id": "7jCmJRbEVtqn"
   },
   "source": [
    "It would be problematic to work further with values that all take different ranges. The model could adapt to such heterogeneous data, but it would make learning more difficult. For this reason, normalization is used."
   ]
  },
  {
   "cell_type": "code",
   "execution_count": 24,
   "metadata": {
    "id": "SXY9offXE_TG"
   },
   "outputs": [],
   "source": [
    "mean = X_train.mean(axis=0)\n",
    "X_train -= mean\n",
    "std = X_train.std(axis=0)\n",
    "X_train /= std\n",
    "\n",
    "\n",
    "X_test -= mean\n",
    "X_test /= std"
   ]
  },
  {
   "cell_type": "code",
   "execution_count": 25,
   "metadata": {
    "colab": {
     "base_uri": "https://localhost:8080/",
     "height": 85
    },
    "id": "m3_PEzzILmE5",
    "outputId": "3ee522b3-90ef-4948-aed5-27ed666d261c"
   },
   "outputs": [
    {
     "data": {
      "text/plain": [
       "(286357, 7)"
      ]
     },
     "metadata": {
      "tags": []
     },
     "output_type": "display_data"
    },
    {
     "data": {
      "text/plain": [
       "(71590, 7)"
      ]
     },
     "metadata": {
      "tags": []
     },
     "output_type": "display_data"
    },
    {
     "data": {
      "text/plain": [
       "(286357,)"
      ]
     },
     "metadata": {
      "tags": []
     },
     "output_type": "display_data"
    },
    {
     "data": {
      "text/plain": [
       "(71590,)"
      ]
     },
     "metadata": {
      "tags": []
     },
     "output_type": "display_data"
    }
   ],
   "source": [
    "display(X_train.shape)\n",
    "display(X_test.shape)\n",
    "display(y_train.shape)\n",
    "display(y_test.shape)"
   ]
  },
  {
   "cell_type": "markdown",
   "metadata": {
    "id": "blguLzQpWsYL"
   },
   "source": [
    "# Training"
   ]
  },
  {
   "cell_type": "markdown",
   "metadata": {
    "id": "DXnjflX8Wbk6"
   },
   "source": [
    "Two different models are considered. Random Forest is chosen because of the opportunity to interpret the results, which is very important for business. The second model is a simple dense neural network."
   ]
  },
  {
   "cell_type": "markdown",
   "metadata": {
    "id": "vtQkmpsiNuqb"
   },
   "source": [
    "## Random Forest Classifier"
   ]
  },
  {
   "cell_type": "code",
   "execution_count": 26,
   "metadata": {
    "colab": {
     "base_uri": "https://localhost:8080/"
    },
    "id": "8fmNZAolLl-i",
    "outputId": "d9634985-6db5-4241-b960-5ca68e5c2ad6"
   },
   "outputs": [
    {
     "data": {
      "text/plain": [
       "RandomForestClassifier(bootstrap=True, ccp_alpha=0.0, class_weight=None,\n",
       "                       criterion='gini', max_depth=None, max_features='auto',\n",
       "                       max_leaf_nodes=None, max_samples=None,\n",
       "                       min_impurity_decrease=0.0, min_impurity_split=None,\n",
       "                       min_samples_leaf=1, min_samples_split=2,\n",
       "                       min_weight_fraction_leaf=0.0, n_estimators=100,\n",
       "                       n_jobs=None, oob_score=False, random_state=42, verbose=0,\n",
       "                       warm_start=False)"
      ]
     },
     "execution_count": 26,
     "metadata": {
      "tags": []
     },
     "output_type": "execute_result"
    }
   ],
   "source": [
    "forest_model = RandomForestClassifier(n_estimators=100, random_state=42)\n",
    "forest_model.fit(X_train, y_train)"
   ]
  },
  {
   "cell_type": "code",
   "execution_count": 28,
   "metadata": {
    "id": "1zwGKBThFtnQ"
   },
   "outputs": [],
   "source": [
    "# predict Sales on test set\n",
    "y_pred = forest_model.predict(X_test)"
   ]
  },
  {
   "cell_type": "markdown",
   "metadata": {
    "id": "yTCV5aXxFnXU"
   },
   "source": [
    "### Evaluation"
   ]
  },
  {
   "cell_type": "code",
   "execution_count": 29,
   "metadata": {
    "colab": {
     "base_uri": "https://localhost:8080/"
    },
    "id": "NH1NjqzpN2JV",
    "outputId": "376bbc8a-2477-45ad-8540-e942078a079e"
   },
   "outputs": [
    {
     "name": "stdout",
     "output_type": "stream",
     "text": [
      "Model accuracy score : 0.9931\n"
     ]
    }
   ],
   "source": [
    "print('Model accuracy score : {0:0.4f}'. format(accuracy_score(y_test, y_pred)))"
   ]
  },
  {
   "cell_type": "markdown",
   "metadata": {
    "id": "3mACuxSEGHKY"
   },
   "source": [
    "For imbalance data, the accuracy metric shows a skewed view of the model's performance. That's why let's focus on the f1-score."
   ]
  },
  {
   "cell_type": "code",
   "execution_count": 30,
   "metadata": {
    "colab": {
     "base_uri": "https://localhost:8080/"
    },
    "id": "o95hYyaSD3Lz",
    "outputId": "97fd32e8-3587-4f9d-b45d-e58fda7aff45"
   },
   "outputs": [
    {
     "name": "stdout",
     "output_type": "stream",
     "text": [
      "              precision    recall  f1-score   support\n",
      "\n",
      "         0.0       1.00      1.00      1.00     69610\n",
      "         1.0       0.85      0.91      0.88      1980\n",
      "\n",
      "    accuracy                           0.99     71590\n",
      "   macro avg       0.92      0.95      0.94     71590\n",
      "weighted avg       0.99      0.99      0.99     71590\n",
      "\n"
     ]
    }
   ],
   "source": [
    "print(classification_report(y_test, y_pred))"
   ]
  },
  {
   "cell_type": "markdown",
   "metadata": {
    "id": "lwQV221kXLwx"
   },
   "source": [
    "The Sale class 0 is predicted better. Nevertheless, the weighted f1 score is still high and equal 0.99."
   ]
  },
  {
   "cell_type": "markdown",
   "metadata": {
    "id": "j_ckUEGREZ75"
   },
   "source": [
    "### Feature Importance"
   ]
  },
  {
   "cell_type": "markdown",
   "metadata": {
    "id": "ijQLU-jyHGc9"
   },
   "source": [
    "Feature importance gives us an idea of the problem by telling which variables are most distinguishable between classes. For example, the Age is indicating whether the potential customer is going to buy a product.\n",
    "That can also be used for feature engineering by creating new features from the most important ones. Feature importance is also used for selecting features or removing them with low importance. For example, it turned out that 'Have ENT prescription' and 'Gender' have the lowest impact on customer's decisions."
   ]
  },
  {
   "cell_type": "code",
   "execution_count": 31,
   "metadata": {
    "colab": {
     "base_uri": "https://localhost:8080/",
     "height": 266
    },
    "id": "hSyxWQxYEdBR",
    "outputId": "912aec7f-8379-47e3-e6dd-98da9067aeb7"
   },
   "outputs": [
    {
     "data": {
      "text/html": [
       "<div>\n",
       "<style scoped>\n",
       "    .dataframe tbody tr th:only-of-type {\n",
       "        vertical-align: middle;\n",
       "    }\n",
       "\n",
       "    .dataframe tbody tr th {\n",
       "        vertical-align: top;\n",
       "    }\n",
       "\n",
       "    .dataframe thead th {\n",
       "        text-align: right;\n",
       "    }\n",
       "</style>\n",
       "<table border=\"1\" class=\"dataframe\">\n",
       "  <thead>\n",
       "    <tr style=\"text-align: right;\">\n",
       "      <th></th>\n",
       "      <th>feature</th>\n",
       "      <th>importance</th>\n",
       "    </tr>\n",
       "  </thead>\n",
       "  <tbody>\n",
       "    <tr>\n",
       "      <th>1</th>\n",
       "      <td>Age</td>\n",
       "      <td>0.438295</td>\n",
       "    </tr>\n",
       "    <tr>\n",
       "      <th>4</th>\n",
       "      <td>Hearing aid age</td>\n",
       "      <td>0.333600</td>\n",
       "    </tr>\n",
       "    <tr>\n",
       "      <th>3</th>\n",
       "      <td>Have hearing aid</td>\n",
       "      <td>0.104109</td>\n",
       "    </tr>\n",
       "    <tr>\n",
       "      <th>6</th>\n",
       "      <td>Distance to store (in km)</td>\n",
       "      <td>0.048257</td>\n",
       "    </tr>\n",
       "    <tr>\n",
       "      <th>2</th>\n",
       "      <td>Area code</td>\n",
       "      <td>0.044995</td>\n",
       "    </tr>\n",
       "    <tr>\n",
       "      <th>5</th>\n",
       "      <td>Have ENT prescription</td>\n",
       "      <td>0.027359</td>\n",
       "    </tr>\n",
       "    <tr>\n",
       "      <th>0</th>\n",
       "      <td>Gender</td>\n",
       "      <td>0.003385</td>\n",
       "    </tr>\n",
       "  </tbody>\n",
       "</table>\n",
       "</div>"
      ],
      "text/plain": [
       "                     feature  importance\n",
       "1                        Age    0.438295\n",
       "4            Hearing aid age    0.333600\n",
       "3           Have hearing aid    0.104109\n",
       "6  Distance to store (in km)    0.048257\n",
       "2                  Area code    0.044995\n",
       "5      Have ENT prescription    0.027359\n",
       "0                     Gender    0.003385"
      ]
     },
     "execution_count": 31,
     "metadata": {
      "tags": []
     },
     "output_type": "execute_result"
    }
   ],
   "source": [
    "fi = pd.DataFrame({'feature': list(df_cln.iloc[:,:-1].columns),\n",
    "                   'importance': forest_model.feature_importances_}).\\\n",
    "                    sort_values('importance', ascending = False)\n",
    "\n",
    "fi"
   ]
  },
  {
   "cell_type": "markdown",
   "metadata": {
    "id": "vI32FwNS7opQ"
   },
   "source": [
    "## Neural Network"
   ]
  },
  {
   "cell_type": "markdown",
   "metadata": {
    "id": "2uh3wbwYH8Kd"
   },
   "source": [
    "The Random Forest Classifier is used to interpret the results, which is very helpful for business. But let's also play around with a Dense Neural network (DNN). DNN can potentially demonstrate even better performance, but the obstacle for business is NN's mechanism of decision making."
   ]
  },
  {
   "cell_type": "markdown",
   "metadata": {
    "id": "RRk2Mf5kJiLJ"
   },
   "source": [
    "Keras is used as a Deep Learning framework."
   ]
  },
  {
   "cell_type": "code",
   "execution_count": 37,
   "metadata": {
    "id": "rRS38Kvz7qjD"
   },
   "outputs": [],
   "source": [
    "model = models.Sequential()\n",
    "model.add(layers.Dense(64, activation='relu', input_shape=(X_train.shape[1],)))\n",
    "model.add(layers.Dense(16, activation='relu'))\n",
    "model.add(layers.Dense(1, activation='sigmoid'))\n",
    "model.compile(optimizer='adam',\n",
    "              loss='binary_crossentropy',\n",
    "              metrics=[keras.metrics.BinaryAccuracy()])"
   ]
  },
  {
   "cell_type": "code",
   "execution_count": 39,
   "metadata": {
    "colab": {
     "base_uri": "https://localhost:8080/"
    },
    "id": "YdCEApLl7_dP",
    "outputId": "b82ff211-c09f-4442-f840-f7b75fa47556"
   },
   "outputs": [
    {
     "name": "stdout",
     "output_type": "stream",
     "text": [
      "Epoch 1/20\n",
      "895/895 [==============================] - 16s 3ms/step - loss: 0.1354 - binary_accuracy: 0.9498 - val_loss: 0.0283 - val_binary_accuracy: 0.9892\n",
      "Epoch 2/20\n",
      "895/895 [==============================] - 2s 2ms/step - loss: 0.0276 - binary_accuracy: 0.9894 - val_loss: 0.0259 - val_binary_accuracy: 0.9915\n",
      "Epoch 3/20\n",
      "895/895 [==============================] - 2s 2ms/step - loss: 0.0272 - binary_accuracy: 0.9909 - val_loss: 0.0241 - val_binary_accuracy: 0.9925\n",
      "Epoch 4/20\n",
      "895/895 [==============================] - 2s 2ms/step - loss: 0.0242 - binary_accuracy: 0.9924 - val_loss: 0.0219 - val_binary_accuracy: 0.9931\n",
      "Epoch 5/20\n",
      "895/895 [==============================] - 2s 2ms/step - loss: 0.0214 - binary_accuracy: 0.9932 - val_loss: 0.0195 - val_binary_accuracy: 0.9934\n",
      "Epoch 6/20\n",
      "895/895 [==============================] - 2s 2ms/step - loss: 0.0194 - binary_accuracy: 0.9935 - val_loss: 0.0182 - val_binary_accuracy: 0.9939\n",
      "Epoch 7/20\n",
      "895/895 [==============================] - 2s 2ms/step - loss: 0.0181 - binary_accuracy: 0.9936 - val_loss: 0.0172 - val_binary_accuracy: 0.9937\n",
      "Epoch 8/20\n",
      "895/895 [==============================] - 2s 2ms/step - loss: 0.0174 - binary_accuracy: 0.9934 - val_loss: 0.0164 - val_binary_accuracy: 0.9938\n",
      "Epoch 9/20\n",
      "895/895 [==============================] - 2s 2ms/step - loss: 0.0156 - binary_accuracy: 0.9940 - val_loss: 0.0161 - val_binary_accuracy: 0.9939\n",
      "Epoch 10/20\n",
      "895/895 [==============================] - 2s 2ms/step - loss: 0.0154 - binary_accuracy: 0.9940 - val_loss: 0.0155 - val_binary_accuracy: 0.9938\n",
      "Epoch 11/20\n",
      "895/895 [==============================] - 2s 2ms/step - loss: 0.0147 - binary_accuracy: 0.9942 - val_loss: 0.0158 - val_binary_accuracy: 0.9937\n",
      "Epoch 12/20\n",
      "895/895 [==============================] - 2s 2ms/step - loss: 0.0154 - binary_accuracy: 0.9940 - val_loss: 0.0163 - val_binary_accuracy: 0.9937\n",
      "Epoch 13/20\n",
      "895/895 [==============================] - 2s 2ms/step - loss: 0.0150 - binary_accuracy: 0.9942 - val_loss: 0.0153 - val_binary_accuracy: 0.9939\n",
      "Epoch 14/20\n",
      "895/895 [==============================] - 2s 2ms/step - loss: 0.0153 - binary_accuracy: 0.9938 - val_loss: 0.0154 - val_binary_accuracy: 0.9939\n",
      "Epoch 15/20\n",
      "895/895 [==============================] - 2s 2ms/step - loss: 0.0153 - binary_accuracy: 0.9939 - val_loss: 0.0154 - val_binary_accuracy: 0.9937\n",
      "Epoch 16/20\n",
      "895/895 [==============================] - 2s 2ms/step - loss: 0.0145 - binary_accuracy: 0.9942 - val_loss: 0.0153 - val_binary_accuracy: 0.9938\n",
      "Epoch 17/20\n",
      "895/895 [==============================] - 2s 2ms/step - loss: 0.0152 - binary_accuracy: 0.9938 - val_loss: 0.0155 - val_binary_accuracy: 0.9938\n",
      "Epoch 18/20\n",
      "895/895 [==============================] - 2s 2ms/step - loss: 0.0153 - binary_accuracy: 0.9939 - val_loss: 0.0156 - val_binary_accuracy: 0.9938\n",
      "Epoch 19/20\n",
      "895/895 [==============================] - 2s 2ms/step - loss: 0.0149 - binary_accuracy: 0.9940 - val_loss: 0.0162 - val_binary_accuracy: 0.9936\n",
      "Epoch 20/20\n",
      "895/895 [==============================] - 2s 2ms/step - loss: 0.0155 - binary_accuracy: 0.9939 - val_loss: 0.0161 - val_binary_accuracy: 0.9936\n"
     ]
    }
   ],
   "source": [
    "history = model.fit(X_train,\n",
    "          y_train,\n",
    "          epochs=20,\n",
    "          batch_size=256,\n",
    "          validation_split=0.2)"
   ]
  },
  {
   "cell_type": "code",
   "execution_count": 40,
   "metadata": {
    "colab": {
     "base_uri": "https://localhost:8080/",
     "height": 295
    },
    "id": "JHYNSaHJQonk",
    "outputId": "cea10b62-fe61-4264-f4b9-37ea653c4228"
   },
   "outputs": [
    {
     "data": {
      "image/png": "[encoded data removed]",
      "text/plain": [
       "<Figure size 432x288 with 1 Axes>"
      ]
     },
     "metadata": {
      "needs_background": "light",
      "tags": []
     },
     "output_type": "display_data"
    }
   ],
   "source": [
    "history_dict = history.history\n",
    "history_dict.keys()\n",
    "\n",
    "loss_values = history_dict['loss']\n",
    "val_loss_values = history_dict['val_loss']\n",
    "epochs = range(1, len(loss_values) + 1)\n",
    "# \"bo\" is for \"blue dot\"\n",
    "plt.plot(epochs, loss_values, 'bo')\n",
    "# b+ is for \"blue crosses\"\n",
    "plt.plot(epochs, val_loss_values, 'b+')\n",
    "plt.xlabel('Epochs')\n",
    "plt.ylabel('Loss')\n",
    "plt.title('Loss')\n",
    "plt.show()"
   ]
  },
  {
   "cell_type": "markdown",
   "metadata": {
    "id": "Vh4PPClMYR5g"
   },
   "source": [
    "Thus, the overfitting problem is not faced and the values of the loss are gradually decreasing, both for validation and for train."
   ]
  },
  {
   "cell_type": "markdown",
   "metadata": {
    "id": "NNzvLd9bQYgL"
   },
   "source": [
    "### Evaluation"
   ]
  },
  {
   "cell_type": "code",
   "execution_count": 41,
   "metadata": {
    "colab": {
     "base_uri": "https://localhost:8080/"
    },
    "id": "gHii5XpyAEKp",
    "outputId": "0373d805-86e4-4c99-c306-634eb78e7867"
   },
   "outputs": [
    {
     "name": "stderr",
     "output_type": "stream",
     "text": [
      "/usr/local/lib/python3.7/dist-packages/keras/engine/sequential.py:450: UserWarning: `model.predict_classes()` is deprecated and will be removed after 2021-01-01. Please use instead:* `np.argmax(model.predict(x), axis=-1)`,   if your model does multi-class classification   (e.g. if it uses a `softmax` last-layer activation).* `(model.predict(x) > 0.5).astype(\"int32\")`,   if your model does binary classification   (e.g. if it uses a `sigmoid` last-layer activation).\n",
      "  warnings.warn('`model.predict_classes()` is deprecated and '\n"
     ]
    }
   ],
   "source": [
    "y_pred = model.predict_classes(X_test)"
   ]
  },
  {
   "cell_type": "code",
   "execution_count": 42,
   "metadata": {
    "colab": {
     "base_uri": "https://localhost:8080/"
    },
    "id": "CAuaEnx0AKt4",
    "outputId": "f6a0972c-770a-48c8-9f42-2c21c2c0c4bb"
   },
   "outputs": [
    {
     "name": "stdout",
     "output_type": "stream",
     "text": [
      "              precision    recall  f1-score   support\n",
      "\n",
      "         0.0       1.00      0.99      1.00     69610\n",
      "         1.0       0.84      0.96      0.90      1980\n",
      "\n",
      "    accuracy                           0.99     71590\n",
      "   macro avg       0.92      0.98      0.95     71590\n",
      "weighted avg       0.99      0.99      0.99     71590\n",
      "\n"
     ]
    }
   ],
   "source": [
    "print(classification_report(y_test, y_pred))"
   ]
  },
  {
   "cell_type": "markdown",
   "metadata": {
    "id": "Yr-q7iJ0Yq6U"
   },
   "source": [
    "Again, the classification report shows that Sale class 0 is predicted more accurate, but the weighted f1 score is pretty high and equals 0.99."
   ]
  },
  {
   "cell_type": "markdown",
   "metadata": {
    "id": "ytf5tElwY4Sm"
   },
   "source": [
    "## Conclusion\n",
    "\n"
   ]
  },
  {
   "cell_type": "markdown",
   "metadata": {
    "id": "njMba-4KZmqb"
   },
   "source": [
    "A high f1 score (0.99) is obtained for both models. Random Forest is prefered, but at the same time, selecting the most tuned hyperparameters of a NN can make it more reliable. Prospective: the techniques to eliminate the class imbalance or data imputation for predicting missing values. "
   ]
  },
  {
   "cell_type": "code",
   "execution_count": null,
   "metadata": {
    "id": "B_TN2_fndc1S"
   },
   "outputs": [],
   "source": []
  }
 ],
 "metadata": {
  "colab": {
   "name": "test-task_sonova.ipynb",
   "provenance": []
  },
  "kernelspec": {
   "display_name": "Python 3",
   "language": "python",
   "name": "python3"
  },
  "language_info": {
   "codemirror_mode": {
    "name": "ipython",
    "version": 3
   },
   "file_extension": ".py",
   "mimetype": "text/x-python",
   "name": "python",
   "nbconvert_exporter": "python",
   "pygments_lexer": "ipython3",
   "version": "3.7.4"
  }
 },
 "nbformat": 4,
 "nbformat_minor": 1
}
